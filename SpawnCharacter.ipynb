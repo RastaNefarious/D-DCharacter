{
 "cells": [
  {
   "cell_type": "code",
   "execution_count": 4,
   "metadata": {},
   "outputs": [
    {
     "name": "stdout",
     "output_type": "stream",
     "text": [
      "What would you like your character name to be?\n",
      "Evan\n",
      "Neutral Good\n",
      "Dwarf\n",
      "Cleric\n",
      "Hit Points:18\n",
      "\n",
      "ABILITY SCORES: \n",
      "Strength: 19 (+4)\n",
      "Dexterity: 8 (-1)\n",
      "Wisdom: 4 (-3)\n",
      "Intelligence: 3 (-4)\n",
      "Constitution: 8 (-1)\n",
      "Charisma: 15 (+2)\n",
      "\n",
      "Racial Traits:\n",
      "['Darkvision', 'Dwarven Resilience', 'Dwarven Combat Training', 'Stonecunning']\n"
     ]
    }
   ],
   "source": [
    "from my_modules import my_functions as fn\n",
    "from my_modules import test_functions\n",
    "import random\n",
    "import string\n",
    "\n",
    "\"\"\"\n",
    "Creating the races and classes from which we will be using to \n",
    "create our random characters. There have been many additions of \n",
    "races/classes within the years to D&D but for the purposes of \n",
    "this we will stick with the basic OG choices\n",
    "\"\"\"\n",
    "RACES = ['Dragonborn', 'Dwarf', 'Elf', 'Gnome', 'Halfling', 'Half-Elf', \n",
    "            'Half-Orc', 'Human', 'Tiefling']\n",
    "CLASSES = ['Barbarian', 'Bard', 'Cleric', 'Druid', 'Fighter', 'Monk', \n",
    "        'Paladin', 'Ranger', 'Rogue', 'Sorcerer', 'Warlock', 'Wizard']\n",
    "\n",
    "\"\"\"\n",
    "Putting this outside of our functions first so we can make more \n",
    "customizations later on with the different race bonuses, hit die, etc.\n",
    "\"\"\"\n",
    "CHOOSE_RACE = random.choice(RACES)\n",
    "CHOOSE_CLASS = random.choice(CLASSES)\n",
    "\n",
    "\"\"\"\n",
    "There's nine alignments of morality in D&D\n",
    "\"\"\"\n",
    "ALIGNMENT_LIST = ['Lawful Good', 'Neutral Good', 'Chaotic Good', \n",
    "                        'Lawful Neutral', 'Neutral', 'Chaotic Neutral', \n",
    "                        'Lawful Evil', 'Neutral Evil', 'Chaotic Evil']\n",
    "\n",
    "class SpawnCharacter():\n",
    "\n",
    "    \"\"\"\n",
    "    Spawn a character!\n",
    "    \"\"\"\n",
    "    \n",
    "    def main():\n",
    "        fn.name()\n",
    "        fn.alignment(ALIGNMENT_LIST)\n",
    "        fn.character_race(CHOOSE_RACE)\n",
    "        fn.character_class(CHOOSE_CLASS)\n",
    "        fn.hit_points(CHOOSE_CLASS)\n",
    "        fn.ability_scores(CHOOSE_RACE)\n",
    "    \n",
    "    main()"
   ]
  },
  {
   "cell_type": "code",
   "execution_count": null,
   "metadata": {},
   "outputs": [],
   "source": []
  }
 ],
 "metadata": {
  "kernelspec": {
   "display_name": "Python 3",
   "language": "python",
   "name": "python3"
  },
  "language_info": {
   "codemirror_mode": {
    "name": "ipython",
    "version": 3
   },
   "file_extension": ".py",
   "mimetype": "text/x-python",
   "name": "python",
   "nbconvert_exporter": "python",
   "pygments_lexer": "ipython3",
   "version": "3.6.7"
  }
 },
 "nbformat": 4,
 "nbformat_minor": 2
}
